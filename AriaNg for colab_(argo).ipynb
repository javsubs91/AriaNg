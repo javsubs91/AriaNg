{
  "nbformat": 4,
  "nbformat_minor": 0,
  "metadata": {
    "colab": {
      "name": "AriaNg (argo).ipynb",
      "provenance": [],
      "toc_visible": true,
      "include_colab_link": true
    },
    "kernelspec": {
      "name": "python3",
      "display_name": "Python 3"
    },
    "language_info": {
      "name": "python"
    }
  },
  "cells": [
    {
      "cell_type": "markdown",
      "metadata": {
        "id": "view-in-github",
        "colab_type": "text"
      },
      "source": [
        "<a href=\"https://colab.research.google.com/github/javsubs91/AriaNg/blob/main/AriaNg_(argo).ipynb\" target=\"_parent\"><img src=\"https://colab.research.google.com/assets/colab-badge.svg\" alt=\"Open In Colab\"/></a>"
      ]
    },
    {
      "cell_type": "markdown",
      "metadata": {
        "id": "ygDyFQvR5Gci"
      },
      "source": [
        "<center><img src=\"https://raw.githubusercontent.com/mayswind/AriaNg-Native/master/assets/AriaNg.ico\" height=\"80px\" align=\"left\"></a>\n",
        "\n",
        "# <font size=6>**AriaNg for colab**</font>\n",
        "\n",
        "---\n",
        "\n",
        "\n",
        "\n",
        "# ***`By: javsubs91`***"
      ]
    },
    {
      "cell_type": "markdown",
      "metadata": {
        "id": "RGLfoyANPVkr"
      },
      "source": [
        "\n",
        "\n",
        "```\n",
        "\n",
        "```\n",
        "\n",
        "\n"
      ]
    },
    {
      "cell_type": "markdown",
      "metadata": {
        "id": "kOcTvJx2pT_y"
      },
      "source": [
        "## CODE FOR COLAB NOTEBOOK STAY ALIVE</br>"
      ]
    },
    {
      "cell_type": "markdown",
      "metadata": {
        "id": "cRwNEZJmUFMg"
      },
      "source": [
        "run this code below on your browser's developer `tool/console`.\n",
        "\n",
        "</br>\n",
        "\n",
        "<pre><code>function ClickConnect() {\n",
        "  console.log('Working')\n",
        "  document\n",
        "    .querySelector('#top-toolbar > colab-connect-button')\n",
        "    .shadowRoot.querySelector('#connect')\n",
        "    .click()\n",
        "}\n",
        "\n",
        "setInterval(ClickConnect, 60000)</code></pre>\n",
        "\n",
        "</br>\n",
        "\n"
      ]
    },
    {
      "cell_type": "markdown",
      "metadata": {
        "id": "6FYVEFPRPOg3"
      },
      "source": [
        "\n",
        "\n",
        "---\n",
        "\n"
      ]
    },
    {
      "cell_type": "markdown",
      "metadata": {
        "id": "4sXeh7Tdx1v-"
      },
      "source": [
        "## <img src=\"https://miro.medium.com/max/1400/0*PBHashST3lI3iehC.png\" height=\"100\" align=\"left\"/><font size=5>Mount Google Drive</font>"
      ]
    },
    {
      "cell_type": "code",
      "metadata": {
        "id": "LkGoo1n9PNgj",
        "cellView": "form"
      },
      "source": [
        "# ============================= FORM ============================= #\n",
        "# @markdown <h3>← Mount/Unmount Google Drive</h3>\n",
        "# @markdown <p>This cell will mount/unmount Google Drive to /content/drive/</p></br>\n",
        "MODE = \"MOUNT\" #@param [\"MOUNT\", \"UNMOUNT\"]\n",
        "# ================================================================ #\n",
        "\n",
        "from IPython.display import clear_output\n",
        "from google.colab import drive\n",
        "drive.mount._DEBUG = False\n",
        "if MODE == \"MOUNT\":\n",
        "  drive.mount('/content/drive', force_remount=True)\n",
        "elif MODE == \"UNMOUNT\":\n",
        "  try:\n",
        "    drive.flush_and_unmount()\n",
        "  except ValueError:\n",
        "    pass\n",
        "  get_ipython().system_raw(\"rm -rf /root/.config/Google/DriveFS\")\n",
        "\n",
        "clear_output()"
      ],
      "execution_count": null,
      "outputs": []
    },
    {
      "cell_type": "markdown",
      "metadata": {
        "id": "ukXZcQs1PL6c"
      },
      "source": [
        "\n",
        "\n",
        "---\n",
        "\n"
      ]
    },
    {
      "cell_type": "markdown",
      "metadata": {
        "id": "fJ7W2Z0gcYa5"
      },
      "source": [
        "## <img src='https://raw.githubusercontent.com/mayswind/AriaNg-Native/master/assets/AriaNg.ico' height=\"60\" alt=\"aria2\" />   ___AriaNg WEB INTERFACE___"
      ]
    },
    {
      "cell_type": "code",
      "metadata": {
        "id": "Z3fpZQeJ8N80",
        "cellView": "form"
      },
      "source": [
        "# ============================= FORM ============================= #\n",
        "# @markdown <font size=5>← [Start] aria2</font>\n",
        "Aria2_rpc = True\n",
        "Ariang_WEBUI = True\n",
        "USE_FREE_TOKEN = False\n",
        "TOKEN = \"\"\n",
        "REGION = \"AP\"\n",
        "Tunneling = \"argo_tunnel_(cloudflare)\"\n",
        "# OUTPUT_DIR = \"\" # @param {type:\"string\"}\n",
        "\n",
        "if Tunneling == \"argo_tunnel_(cloudflare)\":\n",
        "    PORT_FORWARD = \"argotunnel\"\n",
        "elif Tunneling == \"localhost.run\":\n",
        "    PORT_FORWARD = \"localhost\"\n",
        "elif Tunneling == \"ngrok\":\n",
        "    PORT_FORWARD = \"ngrok\"\n",
        "# ================================================================ #\n",
        "\n",
        "import os, pathlib, zipfile, re\n",
        "import urllib.request, requests\n",
        "from IPython.display import HTML, clear_output\n",
        "from urllib.parse import urlparse\n",
        "\n",
        "PORT = 8221\n",
        "HOME = os.path.expanduser(\"~\")\n",
        "\n",
        "if not os.path.exists(f\"{HOME}/.ipython/mixlab.py\"):\n",
        "    hCode = \"https://raw.githubusercontent.com/shirooo39/\" \\\n",
        "            \"MiXLab/master/resources/mixlab.py\"\n",
        "    urllib.request.urlretrieve(hCode, f\"{HOME}/.ipython/mixlab.py\")\n",
        "\n",
        "from mixlab import (\n",
        "    runSh,\n",
        "    loadingAn,\n",
        "    PortForward_wrapper,\n",
        "    CWD,\n",
        "    displayUrl,\n",
        "    findProcess,\n",
        "    findPackageR\n",
        ")\n",
        "\n",
        "loadingAn()\n",
        "\n",
        "# Setting up aria2\n",
        "runSh('apt install -y aria2')\n",
        "pathlib.Path('ariang').mkdir(mode=0o777, exist_ok=True)\n",
        "pathlib.Path('downloads').mkdir(mode=0o777, exist_ok=True)\n",
        "\n",
        "# Defining Github latest release tag\n",
        "def latestTag(link):\n",
        "    import re\n",
        "    from urllib.request import urlopen\n",
        "    htmlF = urlopen(link+\"/releases/latest\").read().decode('UTF-8')\n",
        "    return re.findall(r'.+\\/tag\\/([.0-9A-Za-z]+)\".+/', htmlF)[0]\n",
        "\n",
        "# Downloading the latest version of ariaNg\n",
        "if not os.path.exists(\"ariang/index.html\"):\n",
        "    # BASE_URL = r\"https://github.com/mayswind/AriaNg\"\n",
        "    # LATEST_TAG = latestTag(BASE_URL)\n",
        "    # urlF = f'{BASE_URL}/releases/download/{LATEST_TAG}/' \\\n",
        "    #        f'AriaNg-{LATEST_TAG}-AllInOne.zip'\n",
        "    urllib.request.urlretrieve(findPackageR('mayswind/AriaNg', 'AllInOne.zip'), 'ariang/new.zip')\n",
        "    with zipfile.ZipFile('ariang/new.zip', 'r') as zip_ref: zip_ref.extractall('ariang')\n",
        "    try:\n",
        "        pathlib.Path('ariang/new.zip').unlink()\n",
        "    except FileNotFoundError:\n",
        "        pass\n",
        "\n",
        "# Starting up aria2 RPC and the WebUI (ariaNg)\n",
        "try:\n",
        "    if not OUTPUT_DIR:\n",
        "        OUTPUT_DIR = f\"downloads/\"\n",
        "    elif not os.path.exists(OUTPUT_DIR):\n",
        "    \n",
        "        clear_output()\n",
        "    \n",
        "        print(\"Unable to find the defined path!\")\n",
        "        exx()\n",
        "except:\n",
        "    OUTPUT_DIR = f\"{CWD}/downloads/\"\n",
        "\n",
        "if Aria2_rpc:\n",
        "    if not findProcess(\"aria2c\", \"--enable-rpc\"):\n",
        "        try:\n",
        "            trackers = requests.get(\"https://trackerslist.com/best_aria2.txt\").text\n",
        "            cmdC = r\"aria2c --enable-rpc --rpc-listen-port=6800 -D \" \\\n",
        "                   fr\"-d {OUTPUT_DIR} \" \\\n",
        "                   r\"-j 20 \" \\\n",
        "                   r\"-c \" \\\n",
        "                   fr\"--bt-tracker={trackers} \" \\\n",
        "                   r\"--bt-request-peer-speed-limit=0 \" \\\n",
        "                   r\"--bt-max-peers=0 \" \\\n",
        "                   r\"--seed-ratio=0.0 \" \\\n",
        "                   r\"--max-connection-per-server=10 \" \\\n",
        "                   r\"--min-split-size=10M \" \\\n",
        "                   r\"--follow-torrent=mem \" \\\n",
        "                   r\"--disable-ipv6=true \" \\\n",
        "                   r\" &\"\n",
        "            runSh(cmdC, shell=True)\n",
        "        except:\n",
        "            print(\"aria2 RPC is not enabled! Please enable the RPC first!\")\n",
        "\n",
        "# Configuring port forwarding\n",
        "clear_output()\n",
        "\n",
        "if Aria2_rpc:\n",
        "    Server = PortForward_wrapper(PORT_FORWARD, TOKEN, USE_FREE_TOKEN, [['Aria2_rpc', 6800, 'http']], REGION.lower(), [f\"{HOME}/.ngrok2/aria2.yml\", 5042])\n",
        "    data = Server.start('Aria2_rpc', displayB=False)\n",
        "    Host = urlparse(data['url']).hostname\n",
        "    port = \"80\"\n",
        "\n",
        "clear_output()\n",
        "\n",
        "if Ariang_WEBUI:\n",
        "    if Aria2_rpc:\n",
        "        filePath = 'ariang/index.html'\n",
        "        with open(filePath, 'r+') as f:\n",
        "            read_data = f.read()\n",
        "            f.seek(0)\n",
        "            f.truncate(0)\n",
        "            read_data = re.sub(r'(rpcHost:\"\\w+.\")|rpcHost:\"\"', f'rpcHost:\"{Host}\"', read_data)\n",
        "            read_data = re.sub(r'protocol:\"\\w+.\"', r'protocol:\"ws\"', read_data)\n",
        "            read_data = re.sub(r'rpcPort:\"\\d+.\"', f'rpcPort:\"{port}\"', read_data)\n",
        "            f.write(read_data)\n",
        "    try:\n",
        "        urllib.request.urlopen(f\"http://localhost:{PORT}\")\n",
        "    except:\n",
        "        runSh(f\"python3 -m http.server {PORT} &\", shell=True, cd=\"ariang/\")\n",
        "  \n",
        "Server = PortForward_wrapper(PORT_FORWARD, TOKEN, USE_FREE_TOKEN, [['Ariang', PORT, 'http']], REGION.lower(), [f\"{HOME}/.ngrok2/ariang.yml\", 5043])\n",
        "data2 = Server.start('Ariang', displayB=False)\n",
        "data2['url'] = urlparse(data2['url'])._replace(scheme='http').geturl()\n",
        "displayUrl(data2, pNamU='AriaNg : ')\n",
        "\n",
        "if Aria2_rpc:\n",
        "    display(HTML(\"\"\"<style>@import url('https://fonts.googleapis.com/css?family=Source+Code+Pro:200,900');  :root {   --text-color: hsla(210, 50%, 85%, 1);   --shadow-color: hsla(210, 40%, 52%, .4);   --btn-color: hsl(210, 80%, 42%);   --bg-color: #141218; }  * {   box-sizing: border-box; } button { position:relative; padding: 10px 20px;     border: none;   background: none;      font-family: \"Source Code Pro\";   font-weight: 900;font-size: 100%;     color: var(--text-color);      background-color: var(--btn-color);   box-shadow: var(--shadow-color) 2px 2px 22px;   border-radius: 4px;    z-index: 0;overflow: hidden; -webkit-user-select: text;-moz-user-select: text;-ms-user-select: text;user-select: text;}  button:focus {   outline-color: transparent;   box-shadow: var(--btn-color) 2px 2px 22px; }  .right::after, button::after {   content: var(--content);   display: block;   position: absolute;   white-space: nowrap;   padding: 40px 40px;   pointer-events:none; }  button::after{   font-weight: 200;   top: -30px;   left: -20px; }   .right, .left {   position: absolute;   width: 100%;   height: 100%;   top: 0; } .right {   left: 66%; } .left {   right: 66%; } .right::after {   top: -30px;   left: calc(-66% - 20px);      background-color: var(--bg-color);   color:transparent;   transition: transform .4s ease-out;   transform: translate(0, -90%) rotate(0deg) }  button:hover .right::after {   transform: translate(0, -47%) rotate(0deg) }  button .right:hover::after {   transform: translate(0, -50%) rotate(-7deg) }  button .left:hover ~ .right::after {   transform: translate(0, -50%) rotate(7deg) }  /* bubbles */ button::before {   content: '';   pointer-events: none;   opacity: .6;   background:     radial-gradient(circle at 20% 35%,  transparent 0,  transparent 2px, var(--text-color) 3px, var(--text-color) 4px, transparent 4px),     radial-gradient(circle at 75% 44%, transparent 0,  transparent 2px, var(--text-color) 3px, var(--text-color) 4px, transparent 4px),     radial-gradient(circle at 46% 52%, transparent 0, transparent 4px, var(--text-color) 5px, var(--text-color) 6px, transparent 6px);    width: 100%;   height: 300%;   top: 0;   left: 0;   position: absolute;   animation: bubbles 5s linear infinite both; }  @keyframes bubbles {   from {     transform: translate();   }   to {     transform: translate(0, -66.666%);   } }.zui-table {    border: solid 1px #DDEEEE;    border-collapse: collapse;    border-spacing: 0;    font: normal 13px;}.zui-table thead th {    background-color: #DDEFEF;    border: solid 1px #DDEEEE;    color: #0000009e;    padding: 10px;    text-align: left;}.zui-table tbody td {border: solid 1px #effff97a;color: #ffffffd1;    padding: 10px;}</style><center><button><table class=\"zui-table blueBG\"><p>aria2 RPC Configuration<p><thead>        <tr>            <th>Protocol</th>            <th>Host</th>            <th>Port</th>        </tr>    </thead>    <tbody>        <tr>            <td>WebSocket</td><td>\"\"\"+Host+\"\"\"</td><td>\"\"\"+port+\"\"\"</td></tr></tbody></table><p>Click <a target=\"_blank\" style=\"text-decoration: none;color: hsla(210, 50%, 85%, 1);font-size: 10px;\" href=\"http://bit.ly/2qoOw0a\">HERE</a> to see how to use the configuration.</p></button><center>\"\"\"))"
      ],
      "execution_count": null,
      "outputs": []
    },
    {
      "cell_type": "markdown",
      "metadata": {
        "id": "jfaxgyQlOgcM"
      },
      "source": [
        "\n",
        "\n",
        "---\n",
        "\n"
      ]
    },
    {
      "cell_type": "markdown",
      "metadata": {
        "id": "s5_RQGutSMMx"
      },
      "source": [
        "## <img src='https://media2.giphy.com/media/xTiTnjZAjQipGn9JFS/200.gif' height=\"60\" alt=\"RcloneLab\"/> ___FILE TRANSFER___\n",
        "\n"
      ]
    },
    {
      "cell_type": "markdown",
      "metadata": {
        "id": "jejSEAjTwRkk"
      },
      "source": [
        "the files that you download will be automatically stored in **`root/downloads`**"
      ]
    },
    {
      "cell_type": "code",
      "metadata": {
        "id": "eSmzfMOQF-bK",
        "cellView": "form"
      },
      "source": [
        "src = \"/root/downloads/\"  # @param {type:\"string\"}\n",
        "\n",
        "dst = \"/content/drive/MyDrive/aria\"  # @param {type:\"string\"}\n",
        "\n",
        "#perform the move\n",
        "!mv '{src}' '{dst}'"
      ],
      "execution_count": null,
      "outputs": []
    }
  ]
}
